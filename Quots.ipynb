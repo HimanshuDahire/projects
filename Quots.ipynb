{
 "cells": [
  {
   "cell_type": "code",
   "execution_count": 5,
   "metadata": {},
   "outputs": [],
   "source": [
    "import requests\n",
    "from bs4 import BeautifulSoup\n",
    "\n",
    "base_url = 'http://quotes.toscrape.com'"
   ]
  },
  {
   "cell_type": "code",
   "execution_count": 6,
   "metadata": {},
   "outputs": [],
   "source": [
    "response = requests.get(base_url)\n",
    "data = BeautifulSoup(response.text, 'html.parser')"
   ]
  },
  {
   "cell_type": "code",
   "execution_count": 12,
   "metadata": {},
   "outputs": [
    {
     "name": "stdout",
     "output_type": "stream",
     "text": [
      "“The person, be it gentleman or lady, who has not pleasure in a good novel, must be intolerably stupid.”\n",
      "“A day without sunshine is like, you know, night.”\n"
     ]
    }
   ],
   "source": [
    "# test section\n",
    "division_section = data.find_all(class_ = 'quote')\n",
    "\n",
    "for i in division_section:\n",
    "    tag = i.find(class_ = 'tags').meta['content']\n",
    "    if 'humor' in tag:\n",
    "        quote = i.find(class_ = 'text').string\n",
    "        print(quote)"
   ]
  },
  {
   "cell_type": "code",
   "execution_count": 14,
   "metadata": {},
   "outputs": [
    {
     "name": "stdout",
     "output_type": "stream",
     "text": [
      "“The person, be it gentleman or lady, who has not pleasure in a good novel, must be intolerably stupid.”\n",
      "“A day without sunshine is like, you know, night.”\n",
      "“Anyone who thinks sitting in church can make you a Christian must also think that sitting in a garage can make you a car.”\n",
      "“Beauty is in the eye of the beholder and it may be necessary from time to time to give a stupid or misinformed beholder a black eye.”\n",
      "“All you need is love. But a little chocolate now and then doesn't hurt.”\n",
      "“Remember, we're madly in love, so it's all right to kiss me anytime you feel like it.”\n",
      "“Some people never go crazy. What truly horrible lives they must lead.”\n",
      "“The trouble with having an open mind, of course, is that people will insist on coming along and trying to put things in it.”\n",
      "“Think left and think right and think low and think high. Oh, the thinks you can think up if only you try!”\n",
      "“The reason I talk to myself is because I’m the only one whose answers I accept.”\n",
      "“I am free of all prejudice. I hate everyone equally. ”\n",
      "“A lady's imagination is very rapid; it jumps from admiration to love, from love to matrimony in a moment.”\n"
     ]
    }
   ],
   "source": [
    "# Find all the quotes that have the tag as \"humor\" from the website\n",
    "\n",
    "current_url = base_url\n",
    "while True:\n",
    "    # getting data from the link\n",
    "    response = requests.get(current_url)\n",
    "    data = BeautifulSoup(response.text, 'html.parser')\n",
    "\n",
    "    # code here to print quote with required filter\n",
    "    division_section = data.find_all(class_ = 'quote')\n",
    "\n",
    "    for i in division_section:\n",
    "        tag = i.find(class_ = 'tags').meta['content']\n",
    "        if 'humor' in tag:\n",
    "            quote = i.find(class_ = 'text').string\n",
    "            print(quote)\n",
    "\n",
    "    # filter to stop loop if no next page is found\n",
    "    check = data.find(class_ = 'next')\n",
    "    if  check is None:\n",
    "        break\n",
    "\n",
    "    # switching to next page\n",
    "    next_url = base_url + data.find(class_ = 'next').a['href']\n",
    "    current_url = next_url"
   ]
  },
  {
   "cell_type": "code",
   "execution_count": 22,
   "metadata": {},
   "outputs": [
    {
     "name": "stdout",
     "output_type": "stream",
     "text": [
      "Albert Einstein\n",
      "Alexandre Dumas fils\n",
      "Alfred Tennyson\n",
      "Allen Saunders\n",
      "André Gide\n",
      "Ayn Rand\n",
      "Bob Marley\n",
      "C.S. Lewis\n",
      "Charles Bukowski\n",
      "Charles M. Schulz\n",
      "Douglas Adams\n",
      "Dr. Seuss\n",
      "E.E. Cummings\n",
      "Eleanor Roosevelt\n",
      "Elie Wiesel\n",
      "Ernest Hemingway\n",
      "Friedrich Nietzsche\n",
      "Garrison Keillor\n",
      "George Bernard Shaw\n",
      "George Carlin\n",
      "George Eliot\n",
      "George R.R. Martin\n",
      "Harper Lee\n",
      "Haruki Murakami\n",
      "Helen Keller\n",
      "J.D. Salinger\n",
      "J.K. Rowling\n",
      "J.M. Barrie\n",
      "J.R.R. Tolkien\n",
      "James Baldwin\n",
      "Jane Austen\n",
      "Jim Henson\n",
      "Jimi Hendrix\n",
      "John Lennon\n",
      "Jorge Luis Borges\n",
      "Khaled Hosseini\n",
      "Madeleine L'Engle\n",
      "Marilyn Monroe\n",
      "Mark Twain\n",
      "Martin Luther King Jr.\n",
      "Mother Teresa\n",
      "Pablo Neruda\n",
      "Ralph Waldo Emerson\n",
      "Stephenie Meyer\n",
      "Steve Martin\n",
      "Suzanne Collins\n",
      "Terry Pratchett\n",
      "Thomas A. Edison\n",
      "W.C. Fields\n",
      "William Nicholson\n"
     ]
    }
   ],
   "source": [
    "# Find and print the names of all the different authors from all pages of this website\n",
    "\n",
    "current_url = base_url\n",
    "authors = []\n",
    "while True:\n",
    "    # getting data from the link\n",
    "    response = requests.get(current_url)\n",
    "    data = BeautifulSoup(response.text, 'html.parser')\n",
    "\n",
    "    # code here to print authors name\n",
    "    division_section = data.find_all(class_ = 'author')\n",
    "\n",
    "    for i in division_section:\n",
    "        author = i.string\n",
    "        if author not in authors:\n",
    "            authors.append(author)\n",
    "\n",
    "    # filter to stop loop if no next page is found\n",
    "    check = data.find(class_ = 'next')\n",
    "    if  check is None:\n",
    "        break\n",
    "\n",
    "    # switching to next page\n",
    "    next_url = base_url + data.find(class_ = 'next').a['href']\n",
    "    current_url = next_url\n",
    "\n",
    "authors.sort()\n",
    "for j in authors:\n",
    "    print(j)"
   ]
  },
  {
   "cell_type": "code",
   "execution_count": 25,
   "metadata": {},
   "outputs": [
    {
     "name": "stdout",
     "output_type": "stream",
     "text": [
      "['Albert Einstein', 'Alexandre Dumas fils', 'Alfred Tennyson', 'Allen Saunders', 'André Gide', 'Ayn Rand', 'Bob Marley', 'C.S. Lewis', 'Charles Bukowski', 'Charles M. Schulz', 'Douglas Adams', 'Dr. Seuss', 'E.E. Cummings', 'Eleanor Roosevelt', 'Elie Wiesel', 'Ernest Hemingway', 'Friedrich Nietzsche', 'Garrison Keillor', 'George Bernard Shaw', 'George Carlin', 'George Eliot', 'George R.R. Martin', 'Harper Lee', 'Haruki Murakami', 'Helen Keller', 'J.D. Salinger', 'J.K. Rowling', 'J.M. Barrie', 'J.R.R. Tolkien', 'James Baldwin', 'Jane Austen', 'Jim Henson', 'Jimi Hendrix', 'John Lennon', 'Jorge Luis Borges', 'Khaled Hosseini', \"Madeleine L'Engle\", 'Marilyn Monroe', 'Mark Twain', 'Martin Luther King Jr.', 'Mother Teresa', 'Pablo Neruda', 'Ralph Waldo Emerson', 'Stephenie Meyer', 'Steve Martin', 'Suzanne Collins', 'Terry Pratchett', 'Thomas A. Edison', 'W.C. Fields', 'William Nicholson']\n",
      "50\n"
     ]
    }
   ],
   "source": [
    "print(authors)\n",
    "print(len(authors))"
   ]
  },
  {
   "cell_type": "code",
   "execution_count": 52,
   "metadata": {},
   "outputs": [
    {
     "name": "stdout",
     "output_type": "stream",
     "text": [
      "J.D. Salinger : January 01, 1919\n",
      "J.K. Rowling : July 31, 1965\n",
      "J.M. Barrie : May 09, 1860\n",
      "J.R.R. Tolkien : January 03, 1892\n",
      "James Baldwin : August 02, 1924\n",
      "Jane Austen : December 16, 1775\n",
      "Jim Henson : September 24, 1936\n",
      "Jimi Hendrix : November 27, 1942\n",
      "John Lennon : October 09, 1940\n",
      "Jorge Luis Borges : August 24, 1899\n"
     ]
    }
   ],
   "source": [
    "# Find the birth date of authors whose name start with 'J' from this website\n",
    "\n",
    "current_url = base_url\n",
    "Authors = {}\n",
    "while True:\n",
    "    # getting data from the link\n",
    "    response = requests.get(current_url)\n",
    "    data = BeautifulSoup(response.text, 'html.parser')\n",
    "\n",
    "    # code here to get authors name and date of birth\n",
    "    division_section = data.find_all(class_ = 'quote')\n",
    "\n",
    "    for i in division_section:\n",
    "\n",
    "        # ........................................Getting Name of author....................................\n",
    "        author_class = i.find(class_ = 'author')\n",
    "        author_name = author_class.string\n",
    "\n",
    "        if author_name not in Authors:\n",
    "        # ....................................Getting BIRTH DATE of author....................................\n",
    "            span_tags = i.find_all('span')\n",
    "            # span_tags[0] has the text of the quote\n",
    "            # span_tags[1] has the author detail and link to author\n",
    "            author_partial_url = span_tags[1].a['href']\n",
    "            author_url = base_url + author_partial_url\n",
    "\n",
    "            # ..... browsing author url and getting data...\n",
    "            author_response = requests.get(author_url)\n",
    "            author_data = BeautifulSoup(author_response.text, 'html.parser')\n",
    "\n",
    "            author_birth_date = author_data.find(class_ = 'author-born-date').string\n",
    "\n",
    "        #....................................saving data that we got from author in dictionary.................\n",
    "            Authors[author_name] = author_birth_date\n",
    "\n",
    "    # filter to stop loop if no next page is found\n",
    "    check = data.find(class_ = 'next')\n",
    "    if  check is None:\n",
    "        break\n",
    "\n",
    "    # switching to next page\n",
    "    next_url = base_url + data.find(class_ = 'next').a['href']\n",
    "    current_url = next_url\n",
    "\n",
    "# printing the desired result (a filter can be added in the code to add just the auther with 'J' to further reduce the time)\n",
    "# but to collect data its not been done\n",
    "for i in authors:\n",
    "    if i[0] == 'J':\n",
    "        print(i, \":\",Authors[i])"
   ]
  },
  {
   "cell_type": "code",
   "execution_count": 53,
   "metadata": {},
   "outputs": [
    {
     "name": "stdout",
     "output_type": "stream",
     "text": [
      "“The world as we have created it is a process of our thinking. It cannot be changed without changing our thinking.”\n",
      "“There are only two ways to live your life. One is as though nothing is a miracle. The other is as though everything is a miracle.”\n",
      "“Try not to become a man of success. Rather become a man of value.”\n",
      "“If you can't explain it to a six year old, you don't understand it yourself.”\n",
      "“If you want your children to be intelligent, read them fairy tales. If you want them to be more intelligent, read them more fairy tales.”\n",
      "“Logic will get you from A to Z; imagination will get you everywhere.”\n",
      "“Any fool can know. The point is to understand.”\n",
      "“Life is like riding a bicycle. To keep your balance, you must keep moving.”\n",
      "“If I were not a physicist, I would probably be a musician. I often think in music. I live my daydreams in music. I see my life in terms of music.”\n",
      "“Anyone who has never made a mistake has never tried anything new.”\n"
     ]
    }
   ],
   "source": [
    "# Find all the quotes by Albert Einstein(in the order they appear on the page)\n",
    "\n",
    "current_url = base_url\n",
    "while True:\n",
    "    # getting data from the link\n",
    "    response = requests.get(current_url)\n",
    "    data = BeautifulSoup(response.text, 'html.parser')\n",
    "\n",
    "    # code here to get authors name and date of birth\n",
    "    division_section = data.find_all(class_ = 'quote')\n",
    "\n",
    "    for i in division_section:\n",
    "\n",
    "        # ........................................Getting Name of author....................................\n",
    "        author_class = i.find(class_ = 'author')\n",
    "        author_name = author_class.string\n",
    "\n",
    "        if author_name == 'Albert Einstein':\n",
    "        # ....................................Getting Quote of author....................................\n",
    "            Einstein_quote = quote = i.find(class_ = 'text').string\n",
    "            print(Einstein_quote)\n",
    "            \n",
    "\n",
    "    # filter to stop loop if no next page is found\n",
    "    check = data.find(class_ = 'next')\n",
    "    if  check is None:\n",
    "        break\n",
    "\n",
    "    # switching to next page\n",
    "    next_url = base_url + data.find(class_ = 'next').a['href']\n",
    "    current_url = next_url"
   ]
  }
 ],
 "metadata": {
  "interpreter": {
   "hash": "70f42b784548b679492e0286cd4006eadfe108a172e50315011b3b58e2d5d910"
  },
  "kernelspec": {
   "display_name": "Python 3.9.7 ('base')",
   "language": "python",
   "name": "python3"
  },
  "language_info": {
   "codemirror_mode": {
    "name": "ipython",
    "version": 3
   },
   "file_extension": ".py",
   "mimetype": "text/x-python",
   "name": "python",
   "nbconvert_exporter": "python",
   "pygments_lexer": "ipython3",
   "version": "3.9.7"
  },
  "orig_nbformat": 4
 },
 "nbformat": 4,
 "nbformat_minor": 2
}
