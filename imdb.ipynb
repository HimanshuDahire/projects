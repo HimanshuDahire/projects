{
 "cells": [
  {
   "cell_type": "code",
   "execution_count": 1,
   "metadata": {},
   "outputs": [],
   "source": [
    "import requests as Req\n",
    "from bs4 import BeautifulSoup as BS\n",
    "\n",
    "link_url = 'https://www.imdb.com/search/title/?release_date=2018&sort=num_votes,desc&page=1&ref_=adv_nxt'"
   ]
  },
  {
   "cell_type": "code",
   "execution_count": 2,
   "metadata": {},
   "outputs": [],
   "source": [
    "response = Req.get(link_url)"
   ]
  },
  {
   "cell_type": "code",
   "execution_count": 9,
   "metadata": {},
   "outputs": [],
   "source": [
    "data = BS(response.text, 'html.parser')"
   ]
  },
  {
   "cell_type": "code",
   "execution_count": 4,
   "metadata": {},
   "outputs": [
    {
     "name": "stdout",
     "output_type": "stream",
     "text": [
      "Avengers: Infinity War : Action, Adventure, Sci-Fi\n",
      "Black Panther : Action, Adventure, Sci-Fi\n",
      "Deadpool 2 : Action, Adventure, Comedy\n"
     ]
    }
   ],
   "source": [
    "# Find and print the name and genre of the first 3 titles\n",
    "\n",
    "title_section = data.find_all(class_ = 'lister-item-content')[:3]\n",
    "for i in title_section:\n",
    "    title = i.h3.a.string\n",
    "    genre = i.find(class_ = 'genre').string.split()\n",
    "    print(title,':', *genre) # * is used to unpack all the elements of a list separated by space"
   ]
  },
  {
   "cell_type": "code",
   "execution_count": 5,
   "metadata": {},
   "outputs": [
    {
     "name": "stdout",
     "output_type": "stream",
     "text": [
      "Inception\n",
      "Game of Thrones\n",
      "The Dark Knight Rises\n",
      "The Wolf of Wall Street\n",
      "Interstellar\n"
     ]
    }
   ],
   "source": [
    "# Print the names of movies with highest number of votes from year 2010 to 2014\n",
    "for i in range(0,5):\n",
    "    url = 'https://www.imdb.com/search/title/?release_date=201'+str(i)+'&sort=num_votes,desc&page=1&ref_=adv_nxt'\n",
    "    Res = Req.get(url)\n",
    "    html = BS(Res.text,'html.parser')\n",
    "\n",
    "    title_section = html.find(class_ = 'lister-item-header')\n",
    "    title = title_section.a.string\n",
    "    print(title)"
   ]
  },
  {
   "cell_type": "code",
   "execution_count": 6,
   "metadata": {},
   "outputs": [],
   "source": [
    "# Out of the first 250 titles with highest number of votes in 2018,find which title has the maximum duration.\n",
    "\n",
    "import re\n",
    "import numpy as np\n",
    "\n",
    "title_duration_dict = {}\n",
    "\n",
    "current_url = 'https://www.imdb.com/search/title/?release_date=2018-01-01,2018-12-31&sort=num_votes,desc&ref_=adv_prv'\n",
    "base_url = 'https://www.imdb.com'\n",
    "\n",
    "for i in range(1,6):\n",
    "    \n",
    "    response = Req.get(current_url)\n",
    "    html_data = BS(response.text, 'html.parser')\n",
    "\n",
    "    # getting title and duration of each movie\n",
    "    title_section = html_data.find_all(class_ = 'lister-item-content')\n",
    "    for j in title_section:\n",
    "        title = j.h3.a.string\n",
    "\n",
    "        # checking if the duration is present in the title \n",
    "        duration_check = j.find(class_ = 'runtime')\n",
    "        if duration_check is None:\n",
    "            duration = np.nan\n",
    "        else:\n",
    "            duration = int(re.search('[0-9]+',j.find(class_ = 'runtime').string).group())\n",
    "\n",
    "        title_duration_dict[title] = duration\n",
    "    \n",
    "    # moving to next page\n",
    "    NextPage = base_url + html_data.find(class_ = 'lister-page-next next-page')['href']\n",
    "    current_url = NextPage\n"
   ]
  },
  {
   "cell_type": "code",
   "execution_count": 7,
   "metadata": {},
   "outputs": [
    {
     "name": "stdout",
     "output_type": "stream",
     "text": [
      "The Haunting of Hill House\n"
     ]
    }
   ],
   "source": [
    "# Getting the name of movie with maximum duration\n",
    "MaxKey = max(zip(title_duration_dict.values(), title_duration_dict.keys()))[1]\n",
    "print(MaxKey)"
   ]
  },
  {
   "cell_type": "code",
   "execution_count": 8,
   "metadata": {},
   "outputs": [
    {
     "data": {
      "text/plain": [
       "'/search/title/?release_date=2018-01-01,2018-12-31&sort=num_votes,desc&start=251'"
      ]
     },
     "execution_count": 8,
     "metadata": {},
     "output_type": "execute_result"
    }
   ],
   "source": [
    "html_data.find(class_ = 'lister-page-next next-page')['href']"
   ]
  }
 ],
 "metadata": {
  "interpreter": {
   "hash": "70f42b784548b679492e0286cd4006eadfe108a172e50315011b3b58e2d5d910"
  },
  "kernelspec": {
   "display_name": "Python 3.9.7 ('base')",
   "language": "python",
   "name": "python3"
  },
  "language_info": {
   "codemirror_mode": {
    "name": "ipython",
    "version": 3
   },
   "file_extension": ".py",
   "mimetype": "text/x-python",
   "name": "python",
   "nbconvert_exporter": "python",
   "pygments_lexer": "ipython3",
   "version": "3.9.7"
  },
  "orig_nbformat": 4
 },
 "nbformat": 4,
 "nbformat_minor": 2
}
