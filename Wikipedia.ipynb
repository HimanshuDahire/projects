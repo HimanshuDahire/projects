{
 "cells": [
  {
   "cell_type": "code",
   "execution_count": 1,
   "metadata": {},
   "outputs": [],
   "source": [
    "import requests\n",
    "from bs4 import BeautifulSoup\n",
    "\n",
    "base_url = 'https://en.wikipedia.org/wiki/Artificial_intelligence'"
   ]
  },
  {
   "cell_type": "code",
   "execution_count": 2,
   "metadata": {},
   "outputs": [],
   "source": [
    "response = requests.get(base_url)\n",
    "data = BeautifulSoup(response.text, 'html.parser')"
   ]
  },
  {
   "cell_type": "code",
   "execution_count": 3,
   "metadata": {},
   "outputs": [
    {
     "name": "stdout",
     "output_type": "stream",
     "text": [
      "Reasoning, problem solving\n",
      "Knowledge representation\n",
      "Planning\n",
      "Learning\n",
      "Natural language processing\n",
      "Perception\n",
      "Motion and manipulation\n",
      "Social intelligence\n",
      "General intelligence\n"
     ]
    }
   ],
   "source": [
    "# Goals of Artificial Intelligence\n",
    "goal_section = data.find(class_ = 'toclevel-1 tocsection-2')\n",
    "bullets = goal_section.find_all('span',attrs = {'class' : 'toctext'})\n",
    "\n",
    "for i in range(1,len(bullets)):\n",
    "    print(bullets[i].string)"
   ]
  },
  {
   "cell_type": "code",
   "execution_count": 4,
   "metadata": {},
   "outputs": [
    {
     "data": {
      "text/plain": [
       "'//upload.wikimedia.org/wikipedia/commons/6/69/EM_Clustering_of_Old_Faithful_data.gif'"
      ]
     },
     "execution_count": 4,
     "metadata": {},
     "output_type": "execute_result"
    }
   ],
   "source": [
    "# Find and print the src of the <img> tag which occupies the maximum area on the page.\n",
    "\n",
    "image_section = data.find_all(class_ = 'thumbimage')\n",
    "img_dict = {}\n",
    "for j in image_section:\n",
    "    w = int(j['width'])\n",
    "    h = int(j['height'])\n",
    "    area = w * h\n",
    "    img_dict[area] = j['src']\n",
    "\n",
    "ans = img_dict[max(img_dict)]\n",
    "ans"
   ]
  },
  {
   "cell_type": "code",
   "execution_count": null,
   "metadata": {},
   "outputs": [],
   "source": []
  }
 ],
 "metadata": {
  "interpreter": {
   "hash": "70f42b784548b679492e0286cd4006eadfe108a172e50315011b3b58e2d5d910"
  },
  "kernelspec": {
   "display_name": "Python 3.9.7 ('base')",
   "language": "python",
   "name": "python3"
  },
  "language_info": {
   "codemirror_mode": {
    "name": "ipython",
    "version": 3
   },
   "file_extension": ".py",
   "mimetype": "text/x-python",
   "name": "python",
   "nbconvert_exporter": "python",
   "pygments_lexer": "ipython3",
   "version": "3.9.7"
  },
  "orig_nbformat": 4
 },
 "nbformat": 4,
 "nbformat_minor": 2
}
