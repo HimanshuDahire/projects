{
 "cells": [
  {
   "cell_type": "code",
   "execution_count": 2,
   "metadata": {},
   "outputs": [],
   "source": [
    "import selenium\n",
    "from selenium import webdriver\n",
    "from selenium.webdriver.common.by import By"
   ]
  },
  {
   "cell_type": "code",
   "execution_count": 3,
   "metadata": {},
   "outputs": [],
   "source": [
    "driver = webdriver.Chrome()"
   ]
  },
  {
   "cell_type": "code",
   "execution_count": 3,
   "metadata": {},
   "outputs": [],
   "source": [
    "driver.get('https://paytm.com/recharge')"
   ]
  },
  {
   "cell_type": "code",
   "execution_count": 13,
   "metadata": {},
   "outputs": [],
   "source": [
    "# passing operator name in the operator text box\n",
    "\n",
    "Operator_tag = driver.find_element(By.CLASS_NAME, \"_1exI\")\n",
    "Operator = Operator_tag.find_element(By.TAG_NAME, \"input\")\n",
    "\n",
    "OperatorName = 'Airtel'\n",
    "Operator.send_keys(OperatorName)"
   ]
  },
  {
   "cell_type": "code",
   "execution_count": 16,
   "metadata": {},
   "outputs": [],
   "source": [
    "# passing Circle name in the Circle text box\n",
    "\n",
    "Circle_tag = driver.find_elements(By.CLASS_NAME, \"_1exI\")\n",
    "Circle = Circle_tag[1].find_element(By.TAG_NAME, \"input\")\n",
    "\n",
    "CircleName = 'Delhi NCR'\n",
    "Circle.send_keys(CircleName)"
   ]
  },
  {
   "cell_type": "markdown",
   "metadata": {},
   "source": [
    "#### GEEK FOR GEEKS WEB PAGE"
   ]
  },
  {
   "cell_type": "code",
   "execution_count": 4,
   "metadata": {},
   "outputs": [],
   "source": [
    "driver.get('https://practice.geeksforgeeks.org/')"
   ]
  },
  {
   "cell_type": "code",
   "execution_count": 31,
   "metadata": {},
   "outputs": [],
   "source": [
    "select = driver.find_element(By.XPATH, '(//span[@class = \"card-text\"])[4]')\n",
    "select.click()"
   ]
  },
  {
   "cell_type": "code",
   "execution_count": 30,
   "metadata": {},
   "outputs": [
    {
     "name": "stdout",
     "output_type": "stream",
     "text": [
      "More Data Structures\n"
     ]
    }
   ],
   "source": [
    "sel = driver.find_element(By.XPATH, '(//span[@class = \"card-text\"])[4]')\n",
    "\n",
    "print(sel.text)\n"
   ]
  },
  {
   "cell_type": "code",
   "execution_count": 33,
   "metadata": {},
   "outputs": [],
   "source": [
    "BST = driver.find_element(By.PARTIAL_LINK_TEXT, 'Binary')\n",
    "BST.click()"
   ]
  },
  {
   "cell_type": "code",
   "execution_count": 54,
   "metadata": {},
   "outputs": [],
   "source": [
    "accuracy = driver.find_elements(By.XPATH, '(//span[@class = \"explore_problemAccuracy__dwAAf\"])[position()<11]')\n",
    "name = driver.find_elements(By.XPATH, '(//p[@class = \"explore_problemContainerTxt__kyh8P\"])[position()<11]')"
   ]
  },
  {
   "cell_type": "code",
   "execution_count": 56,
   "metadata": {},
   "outputs": [
    {
     "name": "stdout",
     "output_type": "stream",
     "text": [
      "Check for BST : 21.58%\n",
      "Top View of Binary Tree : 32.3%\n",
      "Lowest Common Ancestor in a BST : 50.22%\n",
      "Insert a node in a BST : 32.7%\n",
      "Minimum element in BST : 62.66%\n",
      "Delete a node from BST : 34.76%\n",
      "Kth largest element in BST : 42.26%\n",
      "Count BST nodes that lie in a given range : 50.5%\n",
      "k-th smallest element in BST : 49.44%\n",
      "Largest BST : 30.88%\n"
     ]
    }
   ],
   "source": [
    "import re\n",
    "\n",
    "name_sucess = zip(name, accuracy)\n",
    "\n",
    "for i in name_sucess:\n",
    "    print(i[0].text, \":\", re.findall('\\S+', i[1].text)[0])"
   ]
  },
  {
   "cell_type": "code",
   "execution_count": null,
   "metadata": {},
   "outputs": [],
   "source": []
  }
 ],
 "metadata": {
  "interpreter": {
   "hash": "70f42b784548b679492e0286cd4006eadfe108a172e50315011b3b58e2d5d910"
  },
  "kernelspec": {
   "display_name": "Python 3.9.7 ('base')",
   "language": "python",
   "name": "python3"
  },
  "language_info": {
   "codemirror_mode": {
    "name": "ipython",
    "version": 3
   },
   "file_extension": ".py",
   "mimetype": "text/x-python",
   "name": "python",
   "nbconvert_exporter": "python",
   "pygments_lexer": "ipython3",
   "version": "3.9.7"
  },
  "orig_nbformat": 4
 },
 "nbformat": 4,
 "nbformat_minor": 2
}
